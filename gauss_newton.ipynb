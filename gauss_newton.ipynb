{
 "nbformat": 4,
 "nbformat_minor": 2,
 "metadata": {
  "language_info": {
   "name": "python",
   "codemirror_mode": {
    "name": "ipython",
    "version": 3
   },
   "version": "3.6.9-final"
  },
  "orig_nbformat": 2,
  "file_extension": ".py",
  "mimetype": "text/x-python",
  "name": "python",
  "npconvert_exporter": "python",
  "pygments_lexer": "ipython3",
  "version": 3,
  "kernelspec": {
   "name": "python36964bitacf840467d8d433aa46bedc80e02302c",
   "display_name": "Python 3.6.9 64-bit"
  }
 },
 "cells": [
  {
   "cell_type": "code",
   "execution_count": null,
   "metadata": {},
   "outputs": [],
   "source": [
    "import numpy as np\n",
    "import matplotlib.pyplot as plt\n",
    "from mpl_toolkits import mplot3d\n",
    "from matplotlib import cm\n"
   ]
  },
  {
   "cell_type": "code",
   "execution_count": null,
   "metadata": {},
   "outputs": [],
   "source": [
    "# Function definition\n",
    "t = np.array([1, 2, 3, 4, 5, 6, 7, 8, 9, 10]) # Also used to compute Jacobian\n",
    "y = np.array([3.5, 4.9, 6.1, 6.8, 7, 7.3, 7.8, 8, 8.15, 8.25])\n",
    "\n",
    "def func(alpha, beta):\n",
    "    return alpha*t / (t+beta)\n",
    "\n",
    "def err_norm(f):\n",
    "    return 0.5 * (np.linalg.norm(y - f)**2)\n"
   ]
  },
  {
   "cell_type": "code",
   "execution_count": null,
   "metadata": {},
   "outputs": [],
   "source": [
    "# Visualize y over t\n",
    "plt.plot(t, y, 'bo')"
   ]
  },
  {
   "cell_type": "code",
   "execution_count": null,
   "metadata": {},
   "outputs": [],
   "source": [
    "# Visualize error\n",
    "nx = 30\n",
    "ny = 30\n",
    "xs = np.linspace(5.0, 15.0, nx)\n",
    "ys = np.linspace(-7.2, 7.2, ny)\n",
    "\n",
    "X, Y = np.meshgrid(xs, ys)\n",
    "Z = np.array([[err_norm(func(X[j,i], Y[j,i])) for i in range(nx)] for j in range(ny)])\n",
    "\n",
    "fig = plt.figure()\n",
    "ax = plt.axes(projection='3d')\n",
    "ax.contour3D(X, Y, Z, 50, cmap=cm.coolwarm)\n",
    "ax.set_xlabel('x')\n",
    "ax.set_ylabel('y')\n",
    "ax.set_zlabel('z')\n",
    "# ax.view_init(60, 35)\n",
    "\n"
   ]
  },
  {
   "cell_type": "code",
   "execution_count": null,
   "metadata": {},
   "outputs": [],
   "source": [
    "init_a = 10\n",
    "init_b = 0.5\n",
    "x = np.array([init_a,init_b])\n",
    "\n",
    "for it in range(15):  # Gauss-Newton step \n",
    "    a = x[0]   \n",
    "    b = x[1]\n",
    "    f = func(a, b)\n",
    "    r = y - f\n",
    "    err = 0.5*np.linalg.norm(r)\n",
    "    print(\"Step \" + str(it+1) + \". Error: \" + str(err))\n",
    "    print(\"a: \" + str(a) + \", b: \" + str(b)) \n",
    "    print(\"\")\n",
    "\n",
    "    d_a = - t / (t+b)\n",
    "    d_b = a*t / (t+b)**2\n",
    "\n",
    "    J = np.stack([d_a, d_b], axis=1) \n",
    "\n",
    "    inv = np.linalg.inv(J.transpose() @ J)\n",
    "    delta = - inv @ J.transpose() @ r\n",
    "\n",
    "    x = x + delta"
   ]
  },
  {
   "cell_type": "code",
   "execution_count": null,
   "metadata": {},
   "outputs": [],
   "source": [
    "# Visualize result\n",
    "a,b = x\n",
    "sample_x = np.linspace(0, 10, 30)\n",
    "sample_y = np.array([a*x / (b + x) for x in sample_x])\n",
    "\n",
    "plt.plot(t, y, 'bo')\n",
    "plt.plot(sample_x, sample_y)\n"
   ]
  },
  {
   "cell_type": "code",
   "execution_count": null,
   "metadata": {},
   "outputs": [],
   "source": []
  }
 ]
}